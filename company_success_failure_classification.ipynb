{
 "cells": [
  {
   "cell_type": "markdown",
   "metadata": {},
   "source": [
    "## Predicting a startup company success or failure using machine learning\n",
    "This notebook attemping to build a machine learning model capable of predicting whether or not statrup company has succeeded based on company's activity features "
   ]
  },
  {
   "cell_type": "markdown",
   "metadata": {},
   "source": [
    "### Description of the whole process\n",
    " As the goal of task is to understand and explain the reason behind success or failure of startup companies I took the following approach to solve the problem. \n",
    " 1. Exploring the data, to find out data if there are missing values, categorical data, numerical data or text data.\n",
    " 2. Picking those data features with has enough impact on dependant variable(success or failure).\n",
    " 3. Cleaning the data and filling numerical missing values with median or mean of the column and categories with 'Unknown'.\n",
    " 4. Preparing data for the machine learning model such converting to categotical features into numerical values.\n",
    " 5. Determining the problem as classification problem and choosing a model using Scikit-learn machine learning library. RandomForestClassifier was choosen.\n",
    " 6. Training the model with the data.\n",
    " 7. After training the model to predict success or failure of a given company there is a feature_importances_ property in RandomForestClassifier model wich gives an opportunity to view the those features wich has the most impact to model predictions.\n",
    " \n",
    " "
   ]
  },
  {
   "cell_type": "markdown",
   "metadata": {},
   "source": [
    "## Note! \n",
    "I picked up 12 features from dataset just to show my approch of solving the problem. "
   ]
  },
  {
   "cell_type": "markdown",
   "metadata": {},
   "source": [
    "### Preparing the tools\n",
    "I'm going to use pandas, matplotlib and NumPy for data analysis and manipulation."
   ]
  },
  {
   "cell_type": "code",
   "execution_count": 1,
   "metadata": {},
   "outputs": [],
   "source": [
    "import pandas as pd\n",
    "import numpy as np\n",
    "import matplotlib.pyplot as plt\n",
    "%matplotlib inline"
   ]
  },
  {
   "cell_type": "code",
   "execution_count": 2,
   "metadata": {
    "scrolled": false
   },
   "outputs": [],
   "source": [
    "na_vals = ['No Info']\n",
    "df = pd.read_csv(\"data.csv\", usecols=['Dependent-Company Status',\n",
    "                                      'year of founding',\n",
    "                                      'Age of company in years',\n",
    "                                      'Employee Count',\n",
    "                                      'Employees count MoM change',\n",
    "                                      'Has the team size grown',\n",
    "                                      'Last Funding Amount',\n",
    "                                      'Number of  Sales Support material',\n",
    "                                      'Number of Co-founders',\n",
    "                                      'Number of of advisors',\n",
    "                                      'Team size Senior leadership',\n",
    "                                      'Team size all employees',\n",
    "                                      'Worked in top companies'], na_values=na_vals)\n",
    "\n",
    "\n",
    "df['Has the team size grown'].replace('no', 'No', inplace=True)\n",
    "df['Has the team size grown'].replace('yes', 'Yes', inplace=True)\n",
    "df['Has the team size grown'].replace('YES', 'Yes', inplace=True)\n",
    "df['Number of  Sales Support material'].replace('High', 'high', inplace=True)\n"
   ]
  },
  {
   "cell_type": "code",
   "execution_count": 3,
   "metadata": {},
   "outputs": [],
   "source": [
    "X = df.drop(['Dependent-Company Status'], axis=1)\n",
    "y = df['Dependent-Company Status']\n"
   ]
  },
  {
   "cell_type": "code",
   "execution_count": 4,
   "metadata": {},
   "outputs": [
    {
     "data": {
      "text/plain": [
       "array([['No', 'Nothing', 'No', ..., 2.0, 2.0, 15.0],\n",
       "       ['No', 'medium', 'Yes', ..., 0.0, 4.0, 20.0],\n",
       "       ['No', 'low', 'Yes', ..., 0.0, 7.0, 10.0],\n",
       "       ...,\n",
       "       ['Unknown', 'Unknown', 'Unknown', ..., 0.0, 1.0, 16.5],\n",
       "       ['Unknown', 'Unknown', 'Unknown', ..., 2.0, 1.0, 16.5],\n",
       "       ['Unknown', 'Unknown', 'Unknown', ..., 0.0, 1.0, 16.5]],\n",
       "      dtype=object)"
      ]
     },
     "execution_count": 4,
     "metadata": {},
     "output_type": "execute_result"
    }
   ],
   "source": [
    "# Fill missing values with Scikit-Learn\n",
    "from sklearn.impute import SimpleImputer\n",
    "from sklearn.compose import ColumnTransformer\n",
    "\n",
    "# Fill categorical values with 'missing' & numerical values with median\n",
    "cat_imputer = SimpleImputer(strategy=\"constant\", fill_value=\"Unknown\")\n",
    "num_imputer = SimpleImputer(strategy=\"median\")\n",
    "\n",
    "# Define columns\n",
    "cat_features = ['Has the team size grown',\n",
    "                'Number of  Sales Support material',\n",
    "                'Worked in top companies']\n",
    "\n",
    "num_features = ['year of founding',\n",
    "                'Age of company in years',\n",
    "                'Employee Count',\n",
    "                'Employees count MoM change',\n",
    "                'Last Funding Amount',\n",
    "                'Number of Co-founders',\n",
    "                'Number of of advisors',\n",
    "                'Team size Senior leadership',\n",
    "                'Team size all employees']\n",
    "\n",
    "# Create an imputer\n",
    "imputer = ColumnTransformer([\n",
    "    (\"cat_imputer\", cat_imputer, cat_features),\n",
    "    (\"num_imputer\", num_imputer, num_features),\n",
    "    \n",
    "])\n",
    "\n",
    "# Transform the data\n",
    "filled_X = imputer.fit_transform(X)\n",
    "filled_X"
   ]
  },
  {
   "cell_type": "code",
   "execution_count": 5,
   "metadata": {},
   "outputs": [],
   "source": [
    "filled_data = pd.DataFrame(filled_X,\n",
    "                               columns=[\n",
    "                'Number of  Sales Support material',                  \n",
    "                'Has the team size grown',\n",
    "                'Worked in top companies',\n",
    "                'year of founding',               \n",
    "                'Age of company in years',\n",
    "                'Employee Count',\n",
    "                'Employees count MoM change',\n",
    "                'Last Funding Amount',\n",
    "                'Number of Co-founders',\n",
    "                'Number of of advisors',\n",
    "                'Team size Senior leadership',\n",
    "                'Team size all employees'\n",
    "                ]) "
   ]
  },
  {
   "cell_type": "code",
   "execution_count": 6,
   "metadata": {},
   "outputs": [
    {
     "data": {
      "text/plain": [
       "array([[1.0, 0.0, 0.0, ..., 2.0, 2.0, 15.0],\n",
       "       [0.0, 0.0, 0.0, ..., 0.0, 4.0, 20.0],\n",
       "       [0.0, 0.0, 0.0, ..., 0.0, 7.0, 10.0],\n",
       "       ...,\n",
       "       [0.0, 1.0, 0.0, ..., 0.0, 1.0, 16.5],\n",
       "       [0.0, 1.0, 0.0, ..., 2.0, 1.0, 16.5],\n",
       "       [0.0, 1.0, 0.0, ..., 0.0, 1.0, 16.5]], dtype=object)"
      ]
     },
     "execution_count": 6,
     "metadata": {},
     "output_type": "execute_result"
    }
   ],
   "source": [
    "# Turn categories into numbers\n",
    "from sklearn.preprocessing import OneHotEncoder\n",
    "from sklearn.compose import ColumnTransformer\n",
    "\n",
    "categorical_features = ['Has the team size grown',\n",
    "                        'Number of  Sales Support material',\n",
    "                        'Worked in top companies']\n",
    "one_hot = OneHotEncoder()\n",
    "transformer = ColumnTransformer([(\"one_hot\", \n",
    "                                 one_hot, \n",
    "                                 categorical_features)],\n",
    "                                 remainder=\"passthrough\")\n",
    "transformed_X = transformer.fit_transform(filled_data)\n",
    "transformed_X\n"
   ]
  },
  {
   "cell_type": "code",
   "execution_count": 7,
   "metadata": {},
   "outputs": [
    {
     "data": {
      "text/plain": [
       "RandomForestClassifier(bootstrap=True, ccp_alpha=0.0, class_weight=None,\n",
       "                       criterion='gini', max_depth=None, max_features='auto',\n",
       "                       max_leaf_nodes=None, max_samples=None,\n",
       "                       min_impurity_decrease=0.0, min_impurity_split=None,\n",
       "                       min_samples_leaf=1, min_samples_split=2,\n",
       "                       min_weight_fraction_leaf=0.0, n_estimators=100,\n",
       "                       n_jobs=None, oob_score=False, random_state=None,\n",
       "                       verbose=0, warm_start=False)"
      ]
     },
     "execution_count": 7,
     "metadata": {},
     "output_type": "execute_result"
    }
   ],
   "source": [
    "from sklearn.ensemble import RandomForestClassifier\n",
    "from sklearn.model_selection import train_test_split\n",
    "\n",
    "np.random.seed(42)\n",
    "\n",
    "# Split the data into training and test sets\n",
    "\n",
    "\n",
    "X_train, X_test, y_train, y_test = train_test_split(transformed_X, y, test_size=0.2)\n",
    "\n",
    "model = RandomForestClassifier()\n",
    "model.fit(X_train, y_train)"
   ]
  },
  {
   "cell_type": "code",
   "execution_count": null,
   "metadata": {},
   "outputs": [],
   "source": []
  },
  {
   "cell_type": "code",
   "execution_count": 8,
   "metadata": {},
   "outputs": [
    {
     "name": "stdout",
     "output_type": "stream",
     "text": [
      "Feature: 0, Score: 0.07729\n",
      "Feature: 1, Score: 0.06316\n",
      "Feature: 2, Score: 0.02457\n",
      "Feature: 3, Score: 0.01912\n",
      "Feature: 4, Score: 0.01968\n",
      "Feature: 5, Score: 0.01448\n",
      "Feature: 6, Score: 0.03818\n",
      "Feature: 7, Score: 0.03382\n",
      "Feature: 8, Score: 0.00838\n",
      "Feature: 9, Score: 0.00697\n",
      "Feature: 10, Score: 0.00943\n",
      "Feature: 11, Score: 0.09635\n",
      "Feature: 12, Score: 0.08878\n",
      "Feature: 13, Score: 0.10460\n",
      "Feature: 14, Score: 0.05194\n",
      "Feature: 15, Score: 0.07389\n",
      "Feature: 16, Score: 0.05669\n",
      "Feature: 17, Score: 0.02519\n",
      "Feature: 18, Score: 0.07721\n",
      "Feature: 19, Score: 0.11024\n"
     ]
    },
    {
     "data": {
      "image/png": "[encoded data removed]",
      "text/plain": [
       "<Figure size 432x288 with 1 Axes>"
      ]
     },
     "metadata": {
      "needs_background": "light"
     },
     "output_type": "display_data"
    }
   ],
   "source": [
    "# get importance\n",
    "importance = model.feature_importances_\n",
    "# for feature, imp in zip(X ,importance):\n",
    "#     print(feature, imp)   \n",
    "# summarize feature importance\n",
    "for i,v in enumerate(importance):\n",
    "\tprint('Feature: %0d, Score: %.5f' % (i,v))\n",
    "# plot feature importance\n",
    "plt.bar([x for x in range(len(importance))], importance)\n",
    "plt.show()"
   ]
  },
  {
   "cell_type": "code",
   "execution_count": 9,
   "metadata": {},
   "outputs": [
    {
     "data": {
      "text/html": [
       "<div>\n",
       "<style scoped>\n",
       "    .dataframe tbody tr th:only-of-type {\n",
       "        vertical-align: middle;\n",
       "    }\n",
       "\n",
       "    .dataframe tbody tr th {\n",
       "        vertical-align: top;\n",
       "    }\n",
       "\n",
       "    .dataframe thead th {\n",
       "        text-align: right;\n",
       "    }\n",
       "</style>\n",
       "<table border=\"1\" class=\"dataframe\">\n",
       "  <thead>\n",
       "    <tr style=\"text-align: right;\">\n",
       "      <th></th>\n",
       "      <th>Number of  Sales Support material</th>\n",
       "      <th>Has the team size grown</th>\n",
       "      <th>Worked in top companies</th>\n",
       "      <th>year of founding</th>\n",
       "      <th>Age of company in years</th>\n",
       "      <th>Employee Count</th>\n",
       "      <th>Employees count MoM change</th>\n",
       "      <th>Last Funding Amount</th>\n",
       "      <th>Number of Co-founders</th>\n",
       "      <th>Number of of advisors</th>\n",
       "      <th>Team size Senior leadership</th>\n",
       "      <th>Team size all employees</th>\n",
       "    </tr>\n",
       "  </thead>\n",
       "  <tbody>\n",
       "    <tr>\n",
       "      <th>0</th>\n",
       "      <td>No</td>\n",
       "      <td>Nothing</td>\n",
       "      <td>No</td>\n",
       "      <td>2010</td>\n",
       "      <td>4</td>\n",
       "      <td>3</td>\n",
       "      <td>0</td>\n",
       "      <td>450000</td>\n",
       "      <td>1</td>\n",
       "      <td>2</td>\n",
       "      <td>2</td>\n",
       "      <td>15</td>\n",
       "    </tr>\n",
       "    <tr>\n",
       "      <th>1</th>\n",
       "      <td>No</td>\n",
       "      <td>medium</td>\n",
       "      <td>Yes</td>\n",
       "      <td>2011</td>\n",
       "      <td>3</td>\n",
       "      <td>13</td>\n",
       "      <td>0</td>\n",
       "      <td>2.8e+06</td>\n",
       "      <td>2</td>\n",
       "      <td>0</td>\n",
       "      <td>4</td>\n",
       "      <td>20</td>\n",
       "    </tr>\n",
       "    <tr>\n",
       "      <th>2</th>\n",
       "      <td>No</td>\n",
       "      <td>low</td>\n",
       "      <td>Yes</td>\n",
       "      <td>2011</td>\n",
       "      <td>3</td>\n",
       "      <td>14</td>\n",
       "      <td>0</td>\n",
       "      <td>2.35e+06</td>\n",
       "      <td>3</td>\n",
       "      <td>0</td>\n",
       "      <td>7</td>\n",
       "      <td>10</td>\n",
       "    </tr>\n",
       "    <tr>\n",
       "      <th>3</th>\n",
       "      <td>No</td>\n",
       "      <td>low</td>\n",
       "      <td>No</td>\n",
       "      <td>2009</td>\n",
       "      <td>5</td>\n",
       "      <td>45</td>\n",
       "      <td>10</td>\n",
       "      <td>1.025e+07</td>\n",
       "      <td>2</td>\n",
       "      <td>0</td>\n",
       "      <td>4</td>\n",
       "      <td>50</td>\n",
       "    </tr>\n",
       "    <tr>\n",
       "      <th>4</th>\n",
       "      <td>No</td>\n",
       "      <td>high</td>\n",
       "      <td>No</td>\n",
       "      <td>2010</td>\n",
       "      <td>4</td>\n",
       "      <td>39</td>\n",
       "      <td>3</td>\n",
       "      <td>5.5e+06</td>\n",
       "      <td>1</td>\n",
       "      <td>1</td>\n",
       "      <td>8</td>\n",
       "      <td>40</td>\n",
       "    </tr>\n",
       "    <tr>\n",
       "      <th>...</th>\n",
       "      <td>...</td>\n",
       "      <td>...</td>\n",
       "      <td>...</td>\n",
       "      <td>...</td>\n",
       "      <td>...</td>\n",
       "      <td>...</td>\n",
       "      <td>...</td>\n",
       "      <td>...</td>\n",
       "      <td>...</td>\n",
       "      <td>...</td>\n",
       "      <td>...</td>\n",
       "      <td>...</td>\n",
       "    </tr>\n",
       "    <tr>\n",
       "      <th>467</th>\n",
       "      <td>No</td>\n",
       "      <td>Unknown</td>\n",
       "      <td>Unknown</td>\n",
       "      <td>2011</td>\n",
       "      <td>3</td>\n",
       "      <td>13</td>\n",
       "      <td>0</td>\n",
       "      <td>2.8e+06</td>\n",
       "      <td>0</td>\n",
       "      <td>0</td>\n",
       "      <td>1</td>\n",
       "      <td>16.5</td>\n",
       "    </tr>\n",
       "    <tr>\n",
       "      <th>468</th>\n",
       "      <td>No</td>\n",
       "      <td>Unknown</td>\n",
       "      <td>Unknown</td>\n",
       "      <td>2010</td>\n",
       "      <td>4</td>\n",
       "      <td>13</td>\n",
       "      <td>0</td>\n",
       "      <td>2.8e+06</td>\n",
       "      <td>0</td>\n",
       "      <td>0</td>\n",
       "      <td>1</td>\n",
       "      <td>16.5</td>\n",
       "    </tr>\n",
       "    <tr>\n",
       "      <th>469</th>\n",
       "      <td>Unknown</td>\n",
       "      <td>Unknown</td>\n",
       "      <td>Unknown</td>\n",
       "      <td>2010</td>\n",
       "      <td>4</td>\n",
       "      <td>0</td>\n",
       "      <td>0</td>\n",
       "      <td>2.8e+06</td>\n",
       "      <td>2</td>\n",
       "      <td>0</td>\n",
       "      <td>1</td>\n",
       "      <td>16.5</td>\n",
       "    </tr>\n",
       "    <tr>\n",
       "      <th>470</th>\n",
       "      <td>Unknown</td>\n",
       "      <td>Unknown</td>\n",
       "      <td>Unknown</td>\n",
       "      <td>2009</td>\n",
       "      <td>5</td>\n",
       "      <td>13</td>\n",
       "      <td>0</td>\n",
       "      <td>100000</td>\n",
       "      <td>3</td>\n",
       "      <td>2</td>\n",
       "      <td>1</td>\n",
       "      <td>16.5</td>\n",
       "    </tr>\n",
       "    <tr>\n",
       "      <th>471</th>\n",
       "      <td>Unknown</td>\n",
       "      <td>Unknown</td>\n",
       "      <td>Unknown</td>\n",
       "      <td>2013</td>\n",
       "      <td>1</td>\n",
       "      <td>13</td>\n",
       "      <td>0</td>\n",
       "      <td>120000</td>\n",
       "      <td>3</td>\n",
       "      <td>0</td>\n",
       "      <td>1</td>\n",
       "      <td>16.5</td>\n",
       "    </tr>\n",
       "  </tbody>\n",
       "</table>\n",
       "<p>472 rows × 12 columns</p>\n",
       "</div>"
      ],
      "text/plain": [
       "    Number of  Sales Support material Has the team size grown  \\\n",
       "0                                  No                 Nothing   \n",
       "1                                  No                  medium   \n",
       "2                                  No                     low   \n",
       "3                                  No                     low   \n",
       "4                                  No                    high   \n",
       "..                                ...                     ...   \n",
       "467                                No                 Unknown   \n",
       "468                                No                 Unknown   \n",
       "469                           Unknown                 Unknown   \n",
       "470                           Unknown                 Unknown   \n",
       "471                           Unknown                 Unknown   \n",
       "\n",
       "    Worked in top companies year of founding Age of company in years  \\\n",
       "0                        No             2010                       4   \n",
       "1                       Yes             2011                       3   \n",
       "2                       Yes             2011                       3   \n",
       "3                        No             2009                       5   \n",
       "4                        No             2010                       4   \n",
       "..                      ...              ...                     ...   \n",
       "467                 Unknown             2011                       3   \n",
       "468                 Unknown             2010                       4   \n",
       "469                 Unknown             2010                       4   \n",
       "470                 Unknown             2009                       5   \n",
       "471                 Unknown             2013                       1   \n",
       "\n",
       "    Employee Count Employees count MoM change Last Funding Amount  \\\n",
       "0                3                          0              450000   \n",
       "1               13                          0             2.8e+06   \n",
       "2               14                          0            2.35e+06   \n",
       "3               45                         10           1.025e+07   \n",
       "4               39                          3             5.5e+06   \n",
       "..             ...                        ...                 ...   \n",
       "467             13                          0             2.8e+06   \n",
       "468             13                          0             2.8e+06   \n",
       "469              0                          0             2.8e+06   \n",
       "470             13                          0              100000   \n",
       "471             13                          0              120000   \n",
       "\n",
       "    Number of Co-founders Number of of advisors Team size Senior leadership  \\\n",
       "0                       1                     2                           2   \n",
       "1                       2                     0                           4   \n",
       "2                       3                     0                           7   \n",
       "3                       2                     0                           4   \n",
       "4                       1                     1                           8   \n",
       "..                    ...                   ...                         ...   \n",
       "467                     0                     0                           1   \n",
       "468                     0                     0                           1   \n",
       "469                     2                     0                           1   \n",
       "470                     3                     2                           1   \n",
       "471                     3                     0                           1   \n",
       "\n",
       "    Team size all employees  \n",
       "0                        15  \n",
       "1                        20  \n",
       "2                        10  \n",
       "3                        50  \n",
       "4                        40  \n",
       "..                      ...  \n",
       "467                    16.5  \n",
       "468                    16.5  \n",
       "469                    16.5  \n",
       "470                    16.5  \n",
       "471                    16.5  \n",
       "\n",
       "[472 rows x 12 columns]"
      ]
     },
     "execution_count": 9,
     "metadata": {},
     "output_type": "execute_result"
    }
   ],
   "source": [
    "filled_data"
   ]
  },
  {
   "cell_type": "markdown",
   "metadata": {},
   "source": [
    "### As we can see on the plot the most importance and impact on model outcome has the last feature column which is 'Team size all employees' and so on.."
   ]
  },
  {
   "cell_type": "code",
   "execution_count": 10,
   "metadata": {},
   "outputs": [
    {
     "data": {
      "text/plain": [
       "0.7684210526315789"
      ]
     },
     "execution_count": 10,
     "metadata": {},
     "output_type": "execute_result"
    }
   ],
   "source": [
    "model.score(X_test, y_test)"
   ]
  },
  {
   "cell_type": "code",
   "execution_count": 11,
   "metadata": {},
   "outputs": [
    {
     "data": {
      "text/plain": [
       "1.0"
      ]
     },
     "execution_count": 11,
     "metadata": {},
     "output_type": "execute_result"
    }
   ],
   "source": [
    "model.score(X_train, y_train)"
   ]
  },
  {
   "cell_type": "code",
   "execution_count": 12,
   "metadata": {},
   "outputs": [
    {
     "data": {
      "text/plain": [
       "0.7684210526315789"
      ]
     },
     "execution_count": 12,
     "metadata": {},
     "output_type": "execute_result"
    }
   ],
   "source": [
    "model.score(X_test, y_test)"
   ]
  },
  {
   "cell_type": "code",
   "execution_count": null,
   "metadata": {},
   "outputs": [],
   "source": []
  }
 ],
 "metadata": {
  "kernelspec": {
   "display_name": "Python 3",
   "language": "python",
   "name": "python3"
  },
  "language_info": {
   "codemirror_mode": {
    "name": "ipython",
    "version": 3
   },
   "file_extension": ".py",
   "mimetype": "text/x-python",
   "name": "python",
   "nbconvert_exporter": "python",
   "pygments_lexer": "ipython3",
   "version": "3.7.6"
  }
 },
 "nbformat": 4,
 "nbformat_minor": 4
}
